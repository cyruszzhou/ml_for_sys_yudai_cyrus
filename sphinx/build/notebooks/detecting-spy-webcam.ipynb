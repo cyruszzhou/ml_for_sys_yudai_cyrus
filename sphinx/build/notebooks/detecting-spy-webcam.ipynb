{
 "cells": [
  {
   "cell_type": "markdown",
   "id": "841a807f",
   "metadata": {},
   "source": [
    "# Jupyter Notebook on Detecting Spying Webcams\n",
    "\n",
    "In this project, we implement machine learning models that detect webcam spying by means of packet capturing. There were three steps in this project.\n",
    "\n",
    "0. Data Speculation from example pcap files.\n",
    "\n",
    "1. Capturing packet traces under different conditions: with/without the spying; and various webcam usages - **(0) nothing, (1) only spying, (2) WeChat Video Call, (3) Wechat Video Call while also spying, (4) Zoom Video Conferencing, (5) Zoom Video Conferencing while also spying.**\n",
    "\n",
    "\n",
    "2. Feature Generation\n",
    "\n",
    "\n",
    "3. Training and evaluating supervised models for both multiclass (the 6 scenarios) and binary classifications (spying vs non-spying).\n",
    "\n",
    "\n",
    "4. Evaluating unsupervised models for binary classification."
   ]
  },
  {
   "cell_type": "code",
   "execution_count": 1,
   "id": "b11449ee",
   "metadata": {},
   "outputs": [],
   "source": [
    "import warnings\n",
    "warnings.filterwarnings('ignore')\n",
    "\n",
    "import logging\n",
    "logging.getLogger(\"scapy.runtime\").setLevel(logging.ERROR)\n",
    "\n",
    "from netml.pparser.parser import PCAP\n",
    "from netml.utils.tool import dump_data, load_data\n",
    "\n",
    "import pandas as pd\n",
    "import numpy as np\n",
    "from IPython.display import clear_output"
   ]
  },
  {
   "cell_type": "markdown",
   "id": "de00a121",
   "metadata": {},
   "source": [
    "## Part 0: Data Speculation"
   ]
  },
  {
   "cell_type": "code",
   "execution_count": 2,
   "id": "980af82e",
   "metadata": {},
   "outputs": [],
   "source": [
    "example_pcap_n = PCAP('data/n_2.pcap')\n",
    "example_pcap_s = PCAP('data/s_9.pcap')\n",
    "example_pcap_w = PCAP('data/w_4.pcap')\n",
    "example_pcap_ws = PCAP('data/w+s_5.pcap')\n",
    "example_pcap_z = PCAP('data/z_6.pcap')\n",
    "example_pcap_zs = PCAP('data/z+s_7.pcap')"
   ]
  },
  {
   "cell_type": "code",
   "execution_count": 3,
   "id": "06b394a1",
   "metadata": {},
   "outputs": [],
   "source": [
    "# We unify the source ip, destination ip, source port, destination port\n",
    "# and protocol for every packets, so that we can treat them as one \"flow\"\n",
    "def ip_protocol_agnostic(flows):\n",
    "    agnostic_flows = []\n",
    "    dummy_tuple = ('1.1.1.1', '2.2.2.2', 5000, 5000, 6)\n",
    "    for flow in flows:\n",
    "        agnostic_flows.append((dummy_tuple,flow[1]))\n",
    "    return agnostic_flows"
   ]
  },
  {
   "cell_type": "code",
   "execution_count": 4,
   "id": "09ee14a3",
   "metadata": {},
   "outputs": [],
   "source": [
    "example_pcap_n.pcap2flows()\n",
    "example_pcap_s.pcap2flows()\n",
    "example_pcap_w.pcap2flows()\n",
    "example_pcap_ws.pcap2flows()\n",
    "example_pcap_z.pcap2flows()\n",
    "example_pcap_zs.pcap2flows()\n",
    "clear_output(wait=False)"
   ]
  },
  {
   "cell_type": "code",
   "execution_count": 5,
   "id": "194648b0",
   "metadata": {},
   "outputs": [],
   "source": [
    "example_pcap_n.flow2features('SAMP_SIZE')\n",
    "example_pcap_s.flow2features('SAMP_SIZE')\n",
    "example_pcap_w.flow2features('SAMP_SIZE')\n",
    "example_pcap_ws.flow2features('SAMP_SIZE')\n",
    "example_pcap_z.flow2features('SAMP_SIZE')\n",
    "example_pcap_zs.flow2features('SAMP_SIZE')\n",
    "clear_output(wait=False)"
   ]
  },
  {
   "cell_type": "code",
   "execution_count": 6,
   "id": "65d0a237",
   "metadata": {},
   "outputs": [],
   "source": [
    "\n",
    "df_example_n = pd.DataFrame(example_pcap_n.features)\n",
    "df_example_s = pd.DataFrame(example_pcap_s.features)\n",
    "df_example_w = pd.DataFrame(example_pcap_w.features)\n",
    "df_example_ws = pd.DataFrame(example_pcap_ws.features)\n",
    "df_example_z = pd.DataFrame(example_pcap_z.features)\n",
    "df_example_zs = pd.DataFrame(example_pcap_zs.features)"
   ]
  },
  {
   "cell_type": "code",
   "execution_count": 7,
   "id": "c8e0b954",
   "metadata": {},
   "outputs": [],
   "source": [
    "agnostic_sampsize_n = df_example_n.sum(axis=0)\n",
    "agnostic_sampsize_s = df_example_s.sum(axis=0)\n",
    "agnostic_sampsize_w = df_example_w.sum(axis=0)\n",
    "agnostic_sampsize_ws = df_example_ws.sum(axis=0)\n",
    "agnostic_sampsize_z = df_example_z.sum(axis=0)\n",
    "agnostic_sampsize_zs = df_example_zs.sum(axis=0)"
   ]
  },
  {
   "cell_type": "code",
   "execution_count": 8,
   "id": "4b3a0038",
   "metadata": {},
   "outputs": [
    {
     "name": "stdout",
     "output_type": "stream",
     "text": [
      "'_flow2features()' starts at 2022-12-07 12:59:31\n",
      "True\n",
      "'_flow2features()' ends at 2022-12-07 12:59:31 and takes 0.0001 mins.\n",
      "'_flow2features()' starts at 2022-12-07 12:59:31\n",
      "True\n",
      "'_flow2features()' ends at 2022-12-07 12:59:32 and takes 0.0121 mins.\n",
      "'_flow2features()' starts at 2022-12-07 12:59:32\n",
      "True\n",
      "'_flow2features()' ends at 2022-12-07 12:59:32 and takes 0.0011 mins.\n",
      "'_flow2features()' starts at 2022-12-07 12:59:32\n",
      "True\n",
      "'_flow2features()' ends at 2022-12-07 12:59:32 and takes 0.0049 mins.\n",
      "'_flow2features()' starts at 2022-12-07 12:59:32\n",
      "True\n",
      "'_flow2features()' ends at 2022-12-07 12:59:32 and takes 0.0009 mins.\n",
      "'_flow2features()' starts at 2022-12-07 12:59:32\n",
      "True\n",
      "'_flow2features()' ends at 2022-12-07 12:59:33 and takes 0.0108 mins.\n"
     ]
    }
   ],
   "source": [
    "example_pcap_n.flow2features('SAMP_NUM')\n",
    "example_pcap_s.flow2features('SAMP_NUM')\n",
    "example_pcap_w.flow2features('SAMP_NUM')\n",
    "example_pcap_ws.flow2features('SAMP_NUM')\n",
    "example_pcap_z.flow2features('SAMP_NUM')\n",
    "example_pcap_zs.flow2features('SAMP_NUM')"
   ]
  },
  {
   "cell_type": "code",
   "execution_count": 9,
   "id": "6d2333e7",
   "metadata": {},
   "outputs": [],
   "source": [
    "df_example_n = pd.DataFrame(example_pcap_n.features)\n",
    "df_example_s = pd.DataFrame(example_pcap_s.features)\n",
    "df_example_w = pd.DataFrame(example_pcap_w.features)\n",
    "df_example_ws = pd.DataFrame(example_pcap_ws.features)\n",
    "df_example_z = pd.DataFrame(example_pcap_z.features)\n",
    "df_example_zs = pd.DataFrame(example_pcap_zs.features)"
   ]
  },
  {
   "cell_type": "code",
   "execution_count": 10,
   "id": "a41dd31d",
   "metadata": {},
   "outputs": [],
   "source": [
    "agnostic_sampnum_n = df_example_n.sum(axis=0)\n",
    "agnostic_sampnum_s = df_example_s.sum(axis=0)\n",
    "agnostic_sampnum_w = df_example_w.sum(axis=0)\n",
    "agnostic_sampnum_ws = df_example_ws.sum(axis=0)\n",
    "agnostic_sampnum_z = df_example_z.sum(axis=0)\n",
    "agnostic_sampnum_zs = df_example_zs.sum(axis=0)"
   ]
  },
  {
   "cell_type": "code",
   "execution_count": 11,
   "id": "f1117b0e",
   "metadata": {},
   "outputs": [],
   "source": [
    "list_sampsize = [agnostic_sampsize_n, agnostic_sampsize_s, \n",
    "                 agnostic_sampsize_w, agnostic_sampsize_ws,\n",
    "                 agnostic_sampsize_z, agnostic_sampsize_zs]\n",
    "list_sampnum = [agnostic_sampnum_n, agnostic_sampnum_s, \n",
    "                agnostic_sampnum_w, agnostic_sampnum_ws,\n",
    "                agnostic_sampnum_z, agnostic_sampnum_zs]\n"
   ]
  },
  {
   "cell_type": "code",
   "execution_count": 12,
   "id": "47d9bc8a",
   "metadata": {},
   "outputs": [],
   "source": [
    "import math\n",
    "def get_aligned_df(list_feat):\n",
    "    aligned_list = []\n",
    "    min_length = math.inf\n",
    "    for feat in list_feat:\n",
    "        if feat.size < min_length:\n",
    "            min_length = feat.size\n",
    "    for feat in list_feat:\n",
    "        aligned_list.append(feat)\n",
    "    aligned_df = pd.DataFrame(aligned_list).fillna(0)\n",
    "    return aligned_df"
   ]
  },
  {
   "cell_type": "code",
   "execution_count": 13,
   "id": "40095d57",
   "metadata": {},
   "outputs": [],
   "source": [
    "aligned_sampsize_df = get_aligned_df(list_sampsize)\n",
    "aligned_sampnum_df = get_aligned_df(list_sampnum)"
   ]
  },
  {
   "cell_type": "code",
   "execution_count": 14,
   "id": "993f2e8a",
   "metadata": {},
   "outputs": [
    {
     "data": {
      "text/plain": [
       "<AxesSubplot: >"
      ]
     },
     "execution_count": 14,
     "metadata": {},
     "output_type": "execute_result"
    },
    {
     "data": {
      "image/png": "[encoded data removed]",
      "text/plain": [
       "<Figure size 640x480 with 1 Axes>"
      ]
     },
     "metadata": {},
     "output_type": "display_data"
    }
   ],
   "source": [
    "aligned_sampsize_df.transpose().plot()"
   ]
  },
  {
   "cell_type": "code",
   "execution_count": 15,
   "id": "0ffd4754",
   "metadata": {},
   "outputs": [
    {
     "data": {
      "text/plain": [
       "<AxesSubplot: >"
      ]
     },
     "execution_count": 15,
     "metadata": {},
     "output_type": "execute_result"
    },
    {
     "data": {
      "image/png": "[encoded data removed]",
      "text/plain": [
       "<Figure size 640x480 with 1 Axes>"
      ]
     },
     "metadata": {},
     "output_type": "display_data"
    }
   ],
   "source": [
    "aligned_sampnum_df.transpose().plot()"
   ]
  },
  {
   "cell_type": "markdown",
   "id": "34d1ab4f",
   "metadata": {},
   "source": [
    "We can see that there are significant variations in samp_num and samp_size among the 6 example pcaps (one from each scenario). We decide to go with these two features."
   ]
  },
  {
   "cell_type": "markdown",
   "id": "f6855446",
   "metadata": {},
   "source": [
    "## Part 1: Packet Capture"
   ]
  },
  {
   "cell_type": "markdown",
   "id": "a06267d9",
   "metadata": {},
   "source": [
    "* Importing Required Libraries"
   ]
  },
  {
   "cell_type": "markdown",
   "id": "8372219a",
   "metadata": {},
   "source": [
    "* Randomly Select certain number (now is 15) of instances from each scenario"
   ]
  },
  {
   "cell_type": "code",
   "execution_count": 16,
   "id": "f01c9fbd",
   "metadata": {},
   "outputs": [],
   "source": [
    "# We need 6 pairs of lists of data indices, each for one scenario, \n",
    "# to select from our collected data. \n",
    "# Tuples are ([Training Indices, Testing Indices]).\n",
    "import random\n",
    "random.seed(10)\n",
    "# Change this number to tweak the train/test split sizes\n",
    "NUM_DATA_FOR_TRAINING = 15\n",
    "\n",
    "# A list that contains integers from 0 to 19\n",
    "# for getting corresponding tests through set minusing\n",
    "list_all_20 = list(range(20))\n",
    "\n",
    "# Randomly sample train indices from 0 to 19\n",
    "train_n = random.sample(range(20), NUM_DATA_FOR_TRAINING)\n",
    "train_s = random.sample(range(20), NUM_DATA_FOR_TRAINING)\n",
    "train_w = random.sample(range(20), NUM_DATA_FOR_TRAINING)\n",
    "train_ws = random.sample(range(20), NUM_DATA_FOR_TRAINING)\n",
    "train_z = random.sample(range(20), NUM_DATA_FOR_TRAINING)\n",
    "train_zs = random.sample(range(20), NUM_DATA_FOR_TRAINING)\n",
    "\n",
    "# This is a helper function that returns the set minusing\n",
    "# result of list_all_20 and the list of indices for training\n",
    "def get_corresponding_test(train_list):\n",
    "    temp = []\n",
    "    for element in list_all_20:\n",
    "        if element not in train_list:\n",
    "            temp.append(element)\n",
    "    return temp\n",
    "\n",
    "# We get the corresponding test indices for each scenario\n",
    "test_n = get_corresponding_test(train_n)\n",
    "test_s = get_corresponding_test(train_s)\n",
    "test_w = get_corresponding_test(train_w)\n",
    "test_ws = get_corresponding_test(train_ws)\n",
    "test_z = get_corresponding_test(train_z)\n",
    "test_zs = get_corresponding_test(train_zs)\n",
    "\n",
    "# A function that converts the index list into\n",
    "# file name lists for PCAP reading\n",
    "def get_full_file_name(index_list, scenario_letters):\n",
    "    res = []\n",
    "    for index in index_list:\n",
    "        res.append(\"data/\"+scenario_letters+\"_\"+str(index+1)+\".pcap\")\n",
    "    return res\n",
    "\n",
    "# Getting full file names for the training index lists\n",
    "train_n = get_full_file_name(train_n, 'n')\n",
    "train_s = get_full_file_name(train_s, 's')\n",
    "train_w = get_full_file_name(train_w, 'w')\n",
    "train_ws = get_full_file_name(train_ws, 'w+s')\n",
    "train_z = get_full_file_name(train_z, 'z')\n",
    "train_zs = get_full_file_name(train_zs, 'z+s')\n",
    "\n",
    "# Getting full file names for the testing index lists\n",
    "test_n = get_full_file_name(test_n, 'n')\n",
    "test_s = get_full_file_name(test_s, 's')\n",
    "test_w = get_full_file_name(test_w, 'w')\n",
    "test_ws = get_full_file_name(test_ws, 'w+s')\n",
    "test_z = get_full_file_name(test_z, 'z')\n",
    "test_zs = get_full_file_name(test_zs, 'z+s')"
   ]
  },
  {
   "cell_type": "code",
   "execution_count": 17,
   "id": "953293a5",
   "metadata": {},
   "outputs": [],
   "source": [
    "# This function returns a list of list of\n",
    "# flows for further processing from the list\n",
    "# of file names passed in\n",
    "# All flows converted within each PCAP are\n",
    "# concatenated into one list\n",
    "def get_listof_listof_flows(list_filename):\n",
    "    all_flows = []\n",
    "    for filename in list_filename:\n",
    "        tmp_pcap = PCAP(filename)\n",
    "        tmp_pcap.pcap2flows()\n",
    "        all_flows.append(tmp_pcap.flows)\n",
    "    return all_flows\n",
    "\n",
    "# Generating lists of lists of flows for the training portions\n",
    "list_train_n = get_listof_listof_flows(train_n)\n",
    "list_train_s = get_listof_listof_flows(train_s)\n",
    "list_train_w = get_listof_listof_flows(train_w)\n",
    "list_train_ws = get_listof_listof_flows(train_ws)\n",
    "list_train_z = get_listof_listof_flows(train_z)\n",
    "list_train_zs = get_listof_listof_flows(train_zs)\n",
    "\n",
    "# Generating lists of lists of flows for the testing portions\n",
    "list_test_n = get_listof_listof_flows(test_n)\n",
    "list_test_s = get_listof_listof_flows(test_s)\n",
    "list_test_w = get_listof_listof_flows(test_w)\n",
    "list_test_ws = get_listof_listof_flows(test_ws)\n",
    "list_test_z = get_listof_listof_flows(test_z)\n",
    "list_test_zs = get_listof_listof_flows(test_zs)\n",
    "\n",
    "# We clear the output here as the PCAP structs\n",
    "# would likely have a lot of messages printed\n",
    "clear_output(wait=False)"
   ]
  },
  {
   "cell_type": "markdown",
   "id": "5d247d1f",
   "metadata": {},
   "source": [
    "## Part 2: Feature Generation"
   ]
  },
  {
   "cell_type": "code",
   "execution_count": 18,
   "id": "7ea27630",
   "metadata": {},
   "outputs": [],
   "source": [
    "# This helper function generates ipagnostic \n",
    "# (i.e., taking everything as one 'flow') \n",
    "# numbers of packets during a certain time interval\n",
    "def get_ipagnostic_samp_nums(listof_listof_flows):\n",
    "    # dummy pcap instance for feature generation\n",
    "    tmp_pcap = PCAP(\"data/n_1.pcap\")\n",
    "    tmp_pcap.pcap2flows()\n",
    "    dflist_ipagnostic = []\n",
    "    for listof_flows in listof_listof_flows:\n",
    "        tmp_pcap.flows = listof_flows\n",
    "        tmp_pcap.flow2features('SAMP_NUM')\n",
    "        df_tmp = pd.DataFrame(tmp_pcap.features)\n",
    "        df_agnostic_tmp = df_tmp.sum(axis=0)\n",
    "        dflist_ipagnostic.append(df_agnostic_tmp)\n",
    "    return pd.DataFrame(dflist_ipagnostic).fillna(0)\n",
    "    \n",
    "# This helper function generates ipagnostic \n",
    "# (i.e., taking everything as one 'flow') \n",
    "# total sizes of packets during a certain time interval\n",
    "def get_ipagnostic_samp_sizes(listof_listof_flows):\n",
    "    # dummy pcap instance for feature generation\n",
    "    tmp_pcap = PCAP(\"data/n_1.pcap\")\n",
    "    tmp_pcap.pcap2flows()\n",
    "    dflist_ipagnostic = []\n",
    "    for listof_flows in listof_listof_flows:\n",
    "        tmp_pcap.flows = listof_flows\n",
    "        tmp_pcap.flow2features('SAMP_SIZE')\n",
    "        df_tmp = pd.DataFrame(tmp_pcap.features)\n",
    "        df_agnostic_tmp = df_tmp.sum(axis=0)\n",
    "        dflist_ipagnostic.append(df_agnostic_tmp)\n",
    "    return pd.DataFrame(dflist_ipagnostic).fillna(0)"
   ]
  },
  {
   "cell_type": "markdown",
   "id": "ed6877bb",
   "metadata": {},
   "source": [
    "### 1. Generating Features For Multiclass Classification"
   ]
  },
  {
   "cell_type": "markdown",
   "id": "87ce3afc",
   "metadata": {},
   "source": [
    "     1.1 Generating Training Data"
   ]
  },
  {
   "cell_type": "code",
   "execution_count": 19,
   "id": "98399241",
   "metadata": {},
   "outputs": [],
   "source": [
    "# Generate packet-level samp_num features for each scenario\n",
    "# using the lists of flows previously concatenated\n",
    "sampnums_train_n = get_ipagnostic_samp_nums(list_train_n)\n",
    "sampnums_train_s = get_ipagnostic_samp_nums(list_train_s)\n",
    "sampnums_train_w = get_ipagnostic_samp_nums(list_train_w)\n",
    "sampnums_train_ws = get_ipagnostic_samp_nums(list_train_ws)\n",
    "sampnums_train_z = get_ipagnostic_samp_nums(list_train_z)\n",
    "sampnums_train_zs = get_ipagnostic_samp_nums(list_train_zs)\n",
    "\n",
    "# Generate packet-level samp_size features for each scenario\n",
    "# using the lists of flows previously concatenated\n",
    "sampsizes_train_n = get_ipagnostic_samp_sizes(list_train_n)\n",
    "sampsizes_train_s = get_ipagnostic_samp_sizes(list_train_s)\n",
    "sampsizes_train_w = get_ipagnostic_samp_sizes(list_train_w)\n",
    "sampsizes_train_ws = get_ipagnostic_samp_sizes(list_train_ws)\n",
    "sampsizes_train_z = get_ipagnostic_samp_sizes(list_train_z)\n",
    "sampsizes_train_zs = get_ipagnostic_samp_sizes(list_train_zs)\n",
    "\n",
    "# We clear outputs here as it would take up too much space\n",
    "clear_output(wait=False)"
   ]
  },
  {
   "cell_type": "code",
   "execution_count": 20,
   "id": "bc9cd869",
   "metadata": {},
   "outputs": [],
   "source": [
    "# We assign each scenario a label\n",
    "# n<-0, s<-1, w<-2, ws<-3, z<-4, zs<-5\n",
    "sampsizes_train_n[\"label\"] = 0\n",
    "sampsizes_train_s[\"label\"] = 1\n",
    "sampsizes_train_w[\"label\"] = 2\n",
    "sampsizes_train_ws[\"label\"] = 3\n",
    "sampsizes_train_z[\"label\"] = 4\n",
    "sampsizes_train_zs[\"label\"] = 5"
   ]
  },
  {
   "cell_type": "code",
   "execution_count": 21,
   "id": "5dbe58ff",
   "metadata": {},
   "outputs": [],
   "source": [
    "# We concatenate features from every scenario into whole dataframes for training\n",
    "# We also concatenate labels in the same order\n",
    "sampnums_all = pd.concat([sampnums_train_n, sampnums_train_s, sampnums_train_z, sampnums_train_zs, sampnums_train_w, sampnums_train_ws], axis=0).iloc[:,:50]\n",
    "sampsizes_all = pd.concat([sampsizes_train_n, sampsizes_train_s, sampsizes_train_z, sampsizes_train_zs, sampsizes_train_w, sampsizes_train_ws], axis=0).iloc[:,:50]\n",
    "both_features_train_multi =  pd.concat([sampnums_all,sampsizes_all], axis=1).fillna(0)\n",
    "\n",
    "labels_multi = pd.concat([sampsizes_train_n, sampsizes_train_s, sampsizes_train_z, sampsizes_train_zs, sampsizes_train_w, sampsizes_train_ws], axis=0)[\"label\"]"
   ]
  },
  {
   "cell_type": "markdown",
   "id": "d115fc1a",
   "metadata": {},
   "source": [
    "    1.2 Generating Testing Data"
   ]
  },
  {
   "cell_type": "code",
   "execution_count": 22,
   "id": "92f8ecdb",
   "metadata": {},
   "outputs": [],
   "source": [
    "# We similarly generate the features for our test data\n",
    "sampnums_test_n = get_ipagnostic_samp_nums(list_test_n)\n",
    "sampnums_test_s = get_ipagnostic_samp_nums(list_test_s)\n",
    "sampnums_test_w = get_ipagnostic_samp_nums(list_test_w)\n",
    "sampnums_test_ws = get_ipagnostic_samp_nums(list_test_ws)\n",
    "sampnums_test_z = get_ipagnostic_samp_nums(list_test_z)\n",
    "sampnums_test_zs = get_ipagnostic_samp_nums(list_test_zs)\n",
    "\n",
    "sampsizes_test_n = get_ipagnostic_samp_sizes(list_test_n)\n",
    "sampsizes_test_s = get_ipagnostic_samp_sizes(list_test_s)\n",
    "sampsizes_test_w = get_ipagnostic_samp_sizes(list_test_w)\n",
    "sampsizes_test_ws = get_ipagnostic_samp_sizes(list_test_ws)\n",
    "sampsizes_test_z = get_ipagnostic_samp_sizes(list_test_z)\n",
    "sampsizes_test_zs = get_ipagnostic_samp_sizes(list_test_zs)\n",
    "clear_output(wait=False)"
   ]
  },
  {
   "cell_type": "code",
   "execution_count": 23,
   "id": "b1247254",
   "metadata": {},
   "outputs": [],
   "source": [
    "# We label the test data correspondingly as well\n",
    "sampsizes_test_n[\"label\"] = 0\n",
    "sampsizes_test_s[\"label\"] = 1\n",
    "sampsizes_test_w[\"label\"] = 2\n",
    "sampsizes_test_ws[\"label\"] = 3\n",
    "sampsizes_test_z[\"label\"] = 4\n",
    "sampsizes_test_zs[\"label\"] = 5"
   ]
  },
  {
   "cell_type": "code",
   "execution_count": 24,
   "id": "5b1d76a9",
   "metadata": {},
   "outputs": [],
   "source": [
    "# Likewise, we concatenate all features and label data in sequence\n",
    "sampnums_all_test = pd.concat([sampnums_test_n, sampnums_test_s, sampnums_test_z, sampnums_test_zs, sampnums_test_w, sampnums_test_ws], axis=0).iloc[:,:50]\n",
    "sampsizes_all_test = pd.concat([sampsizes_test_n, sampsizes_test_s, sampsizes_test_z, sampsizes_test_zs, sampsizes_test_w, sampsizes_test_ws], axis=0).iloc[:,:50]\n",
    "both_features_test_multi =  pd.concat([sampnums_all_test,sampsizes_all_test], axis=1).fillna(0)\n",
    "labels_test_multi = pd.concat([sampsizes_test_n, sampsizes_test_s, sampsizes_test_z, sampsizes_test_zs, sampsizes_test_w, sampsizes_test_ws], axis=0)[\"label\"]"
   ]
  },
  {
   "cell_type": "markdown",
   "id": "7f576d2e",
   "metadata": {},
   "source": [
    "### 2. Generating Features and Labels for Binary Classification: Spy vs Non-Spy"
   ]
  },
  {
   "cell_type": "code",
   "execution_count": 25,
   "id": "1848a0c3",
   "metadata": {},
   "outputs": [],
   "source": [
    "# As our research interest lies mainly in detecting if there is any\n",
    "# camera spying, let's categorize our data int spied and unspied conditions\n",
    "# This increases data size (and thus accuracy) and mitigates overfitting\n",
    "list_train_unspied = list_train_n + list_train_w + list_train_z\n",
    "list_train_spied =  list_train_s + list_train_ws + list_train_zs\n",
    "\n",
    "# Generating samp_num and samp_size features for spied and unspied flows\n",
    "sampnums_train_unspied = get_ipagnostic_samp_nums(list_train_unspied)\n",
    "sampnums_train_spied = get_ipagnostic_samp_nums(list_train_spied)\n",
    "\n",
    "sampsizes_train_unspied = get_ipagnostic_samp_sizes(list_train_unspied)\n",
    "sampsizes_train_spied = get_ipagnostic_samp_sizes(list_train_spied)\n",
    "\n",
    "# We clear the output as the previous operations would be printing out too many messages\n",
    "clear_output(wait=False)\n",
    "\n",
    "sampnums_both = pd.concat([sampnums_train_unspied,sampnums_train_spied]).fillna(0)\n",
    "sampsizes_both = pd.concat([sampsizes_train_unspied,sampsizes_train_spied]).fillna(0)\n",
    "\n",
    "sampsizes_train_unspied[\"label\"] = 0\n",
    "sampsizes_train_spied[\"label\"] = 1\n",
    "labels_bin = pd.concat([sampsizes_train_unspied[\"label\"], sampsizes_train_spied[\"label\"]])\n",
    "sampsizes_train_unspied = sampsizes_train_unspied.drop(\"label\",axis=1)\n",
    "sampsizes_train_spied = sampsizes_train_spied.drop(\"label\",axis=1)\n",
    "\n",
    "features_both = pd.concat([sampnums_both.iloc[:,:50],sampsizes_both.iloc[:,:50]],axis=1)"
   ]
  },
  {
   "cell_type": "code",
   "execution_count": 26,
   "id": "592cadc7",
   "metadata": {},
   "outputs": [],
   "source": [
    "# As our research interest lies mainly in detecting if there is any\n",
    "# camera spying, let's categorize our data int spied and unspied conditions\n",
    "# This increases data size (and thus accuracy) and mitigates overfitting\n",
    "list_test_unspied = list_test_n + list_test_w + list_test_z\n",
    "list_test_spied =  list_test_s + list_test_ws + list_test_zs\n",
    "\n",
    "# Generating samp_num and samp_size features for spied and unspied flows\n",
    "sampnums_test_unspied = get_ipagnostic_samp_nums(list_test_unspied)\n",
    "sampnums_test_spied = get_ipagnostic_samp_nums(list_test_spied)\n",
    "\n",
    "sampsizes_test_unspied = get_ipagnostic_samp_sizes(list_test_unspied)\n",
    "sampsizes_test_spied = get_ipagnostic_samp_sizes(list_test_spied)\n",
    "\n",
    "# We clear the output as the previous operations would be printing out too many messages\n",
    "clear_output(wait=False)\n",
    "\n",
    "sampnums_both_test = pd.concat([sampnums_test_unspied,sampnums_test_spied]).fillna(0)\n",
    "sampsizes_both_test = pd.concat([sampsizes_test_unspied,sampsizes_test_spied]).fillna(0)\n",
    "\n",
    "sampsizes_test_unspied[\"label\"] = 0\n",
    "sampsizes_test_spied[\"label\"] = 1\n",
    "labels_bin_test = pd.concat([sampsizes_test_unspied[\"label\"], sampsizes_test_spied[\"label\"]])\n",
    "sampsizes_test_unspied = sampsizes_test_unspied.drop(\"label\",axis=1)\n",
    "sampsizes_test_spied = sampsizes_test_spied.drop(\"label\",axis=1)\n",
    "\n",
    "features_both_test = pd.concat([sampnums_both_test.iloc[:,:50],sampsizes_both_test.iloc[:,:50]],axis=1)"
   ]
  },
  {
   "cell_type": "markdown",
   "id": "e930cdef",
   "metadata": {},
   "source": [
    "## Part 3: Supervised model"
   ]
  },
  {
   "cell_type": "markdown",
   "id": "1d229c98",
   "metadata": {},
   "source": [
    "    3.1 Multi-class Classificatoin"
   ]
  },
  {
   "cell_type": "markdown",
   "id": "dd6e2158",
   "metadata": {},
   "source": [
    "* Trying out `Random Forest`:"
   ]
  },
  {
   "cell_type": "code",
   "execution_count": 27,
   "id": "c0ef08fa",
   "metadata": {},
   "outputs": [],
   "source": [
    "\n",
    "from sklearn.ensemble import RandomForestClassifier\n",
    "from sklearn.model_selection import cross_val_score\n",
    "\n",
    "rf_model_multi = RandomForestClassifier(random_state=42,n_jobs=-1,n_estimators=200,class_weight=\"balanced\")\n",
    "rf_model_multi.fit(both_features_train_multi,labels_multi)\n",
    "rf_multi_pred = rf_model_multi.predict(both_features_test_multi)"
   ]
  },
  {
   "cell_type": "code",
   "execution_count": 28,
   "id": "d6eca24e",
   "metadata": {},
   "outputs": [
    {
     "name": "stdout",
     "output_type": "stream",
     "text": [
      "[[5 0 0 0 0 0]\n",
      " [0 4 0 0 0 1]\n",
      " [0 0 4 0 1 0]\n",
      " [0 0 0 4 0 1]\n",
      " [0 0 1 2 2 0]\n",
      " [0 0 0 0 0 5]]\n"
     ]
    }
   ],
   "source": [
    "from sklearn import metrics\n",
    "import matplotlib.pyplot as plt\n",
    "from sklearn.metrics import confusion_matrix, ConfusionMatrixDisplay, accuracy_score, f1_score, roc_curve\n",
    "\n",
    "# Generating the confusion matrix from the true labels and predicted values\n",
    "print(metrics.confusion_matrix(labels_test_multi,rf_multi_pred))"
   ]
  },
  {
   "cell_type": "code",
   "execution_count": 29,
   "id": "c54cc6f2",
   "metadata": {},
   "outputs": [
    {
     "data": {
      "image/png": "[encoded data removed]",
      "text/plain": [
       "<Figure size 640x480 with 2 Axes>"
      ]
     },
     "metadata": {},
     "output_type": "display_data"
    }
   ],
   "source": [
    "# Visualizing the confusion matrix\n",
    "cm_rf_mt = confusion_matrix(labels_test_multi,rf_multi_pred,labels=rf_model_multi.classes_)\n",
    "disp = ConfusionMatrixDisplay(confusion_matrix=cm_rf_mt,display_labels=rf_model_multi.classes_)\n",
    "disp.plot()\n",
    "plt.show()"
   ]
  },
  {
   "cell_type": "code",
   "execution_count": 30,
   "id": "d0a9fec6",
   "metadata": {},
   "outputs": [
    {
     "name": "stdout",
     "output_type": "stream",
     "text": [
      "The accuracy score is 0.8\n"
     ]
    }
   ],
   "source": [
    "# Calculating the accuracy score\n",
    "acc_score_rf_mt = accuracy_score(labels_test_multi,rf_multi_pred)\n",
    "print(\"The accuracy score is \" + str(acc_score_rf_mt))"
   ]
  },
  {
   "cell_type": "code",
   "execution_count": 31,
   "id": "254f6ccf",
   "metadata": {},
   "outputs": [
    {
     "name": "stdout",
     "output_type": "stream",
     "text": [
      "The f1 scores are [1.         0.88888889 0.8        0.72727273 0.5        0.83333333]\n"
     ]
    }
   ],
   "source": [
    "# Calculating the f1 score\n",
    "f1_sc_rf_mt = f1_score(labels_test_multi,rf_multi_pred,average=None)\n",
    "print(\"The f1 scores are \"+str(f1_sc_rf_mt))"
   ]
  },
  {
   "cell_type": "markdown",
   "id": "05349d12",
   "metadata": {},
   "source": [
    "* Trying out `Logistic Regression`:"
   ]
  },
  {
   "cell_type": "code",
   "execution_count": 32,
   "id": "c9c2fb49",
   "metadata": {},
   "outputs": [
    {
     "name": "stdout",
     "output_type": "stream",
     "text": [
      "[[5 0 0 0 0 0]\n",
      " [0 0 0 2 2 1]\n",
      " [0 1 2 0 2 0]\n",
      " [0 2 0 0 2 1]\n",
      " [0 0 0 0 5 0]\n",
      " [0 0 0 1 1 3]]\n"
     ]
    }
   ],
   "source": [
    "from sklearn.linear_model import LogisticRegression\n",
    "\n",
    "logreg_mt = LogisticRegression(random_state=42).fit(both_features_train_multi, labels_multi)\n",
    "logreg_multi_pred = logreg_mt.predict(both_features_test_multi)\n",
    "\n",
    "print(metrics.confusion_matrix(labels_test_multi,logreg_multi_pred))"
   ]
  },
  {
   "cell_type": "code",
   "execution_count": 33,
   "id": "4fb2862d",
   "metadata": {},
   "outputs": [
    {
     "data": {
      "image/png": "[encoded data removed]",
      "text/plain": [
       "<Figure size 640x480 with 2 Axes>"
      ]
     },
     "metadata": {},
     "output_type": "display_data"
    }
   ],
   "source": [
    "# Visualizing the confusion matrix\n",
    "cm_logreg_mt = confusion_matrix(labels_test_multi,logreg_multi_pred,labels=logreg_mt.classes_)\n",
    "disp = ConfusionMatrixDisplay(confusion_matrix=cm_logreg_mt,display_labels=logreg_mt.classes_)\n",
    "disp.plot()\n",
    "plt.show()"
   ]
  },
  {
   "cell_type": "code",
   "execution_count": 34,
   "id": "42f21cdc",
   "metadata": {},
   "outputs": [
    {
     "name": "stdout",
     "output_type": "stream",
     "text": [
      "The accuracy score is 0.5\n"
     ]
    }
   ],
   "source": [
    "# Calculating the accuracy score\n",
    "acc_score_logreg_mt = accuracy_score(labels_test_multi,logreg_multi_pred)\n",
    "print(\"The accuracy score is \" + str(acc_score_logreg_mt))"
   ]
  },
  {
   "cell_type": "code",
   "execution_count": 35,
   "id": "4cb3029c",
   "metadata": {},
   "outputs": [
    {
     "name": "stdout",
     "output_type": "stream",
     "text": [
      "The f1 scores are [1.         0.         0.57142857 0.         0.58823529 0.6       ]\n"
     ]
    }
   ],
   "source": [
    "# Calculating the f1 score\n",
    "f1_sc_logreg_mt = f1_score(labels_test_multi,logreg_multi_pred,average=None)\n",
    "print(\"The f1 scores are \"+str(f1_sc_logreg_mt))"
   ]
  },
  {
   "cell_type": "markdown",
   "id": "cdd2a8a0",
   "metadata": {},
   "source": [
    "* Trying out `Multi-layer Perceptron`"
   ]
  },
  {
   "cell_type": "code",
   "execution_count": 36,
   "id": "b238412e",
   "metadata": {},
   "outputs": [
    {
     "name": "stdout",
     "output_type": "stream",
     "text": [
      "[[5 0 0 0 0 0]\n",
      " [0 1 1 1 1 1]\n",
      " [0 0 3 0 1 1]\n",
      " [0 1 1 1 2 0]\n",
      " [0 1 0 0 3 1]\n",
      " [0 0 0 0 0 5]]\n"
     ]
    }
   ],
   "source": [
    "from sklearn.neural_network import MLPClassifier\n",
    "\n",
    "mlp_multi = MLPClassifier(hidden_layer_sizes={140,100},activation=\"logistic\",solver=\"sgd\",alpha=0.00001, learning_rate=\"adaptive\", random_state=42,max_iter=10000).fit(both_features_train_multi,labels_multi)\n",
    "mlp_multi_pred = mlp_multi.predict(both_features_test_multi)\n",
    "\n",
    "# Generating the confusion matrix from the true labels and predicted values\n",
    "print(metrics.confusion_matrix(labels_test_multi,mlp_multi_pred))"
   ]
  },
  {
   "cell_type": "code",
   "execution_count": 37,
   "id": "b5d930d5",
   "metadata": {},
   "outputs": [
    {
     "data": {
      "image/png": "[encoded data removed]",
      "text/plain": [
       "<Figure size 640x480 with 2 Axes>"
      ]
     },
     "metadata": {},
     "output_type": "display_data"
    }
   ],
   "source": [
    "# Visualizing the confusion matrix\n",
    "cm_mlp_mt = confusion_matrix(labels_test_multi,mlp_multi_pred,labels=mlp_multi.classes_)\n",
    "disp = ConfusionMatrixDisplay(confusion_matrix=cm_mlp_mt,display_labels=mlp_multi.classes_)\n",
    "disp.plot()\n",
    "plt.show()"
   ]
  },
  {
   "cell_type": "code",
   "execution_count": 38,
   "id": "039f85fe",
   "metadata": {},
   "outputs": [
    {
     "name": "stdout",
     "output_type": "stream",
     "text": [
      "The accuracy score is 0.6\n"
     ]
    }
   ],
   "source": [
    "# Calculating the accuracy score\n",
    "acc_score_logreg_mt = accuracy_score(labels_test_multi,mlp_multi_pred)\n",
    "print(\"The accuracy score is \" + str(acc_score_logreg_mt))"
   ]
  },
  {
   "cell_type": "code",
   "execution_count": 39,
   "id": "3d8bba4b",
   "metadata": {},
   "outputs": [
    {
     "name": "stdout",
     "output_type": "stream",
     "text": [
      "The f1 scores are [1.         0.25       0.6        0.28571429 0.5        0.76923077]\n"
     ]
    }
   ],
   "source": [
    "# Calculating the f1 score\n",
    "f1_sc_mlp_mt = f1_score(labels_test_multi,mlp_multi_pred,average=None)\n",
    "print(\"The f1 scores are \"+str(f1_sc_mlp_mt))"
   ]
  },
  {
   "cell_type": "markdown",
   "id": "80590b4c",
   "metadata": {},
   "source": [
    "    3.2 Binary Learning: Spy vs Nonspy"
   ]
  },
  {
   "cell_type": "markdown",
   "id": "d41fe19c",
   "metadata": {},
   "source": [
    "* Trying out `Random Forest`"
   ]
  },
  {
   "cell_type": "code",
   "execution_count": 40,
   "id": "9207f767",
   "metadata": {},
   "outputs": [
    {
     "name": "stdout",
     "output_type": "stream",
     "text": [
      "[[13  2]\n",
      " [ 0 15]]\n"
     ]
    }
   ],
   "source": [
    "from sklearn.ensemble import RandomForestClassifier\n",
    "from sklearn.model_selection import cross_val_score\n",
    "\n",
    "rf_model_bin = RandomForestClassifier(random_state=42,n_jobs=-1,n_estimators=200,class_weight=\"balanced\")\n",
    "rf_model_bin.fit(features_both,labels_bin)\n",
    "\n",
    "rf_bin_pred = rf_model_bin.predict(features_both_test)\n",
    "\n",
    "print(metrics.confusion_matrix(labels_bin_test,rf_bin_pred))"
   ]
  },
  {
   "cell_type": "code",
   "execution_count": 41,
   "id": "560d81d2",
   "metadata": {},
   "outputs": [
    {
     "data": {
      "image/png": "[encoded data removed]",
      "text/plain": [
       "<Figure size 640x480 with 2 Axes>"
      ]
     },
     "metadata": {},
     "output_type": "display_data"
    }
   ],
   "source": [
    "# Visualizing the confusion matrix\n",
    "cm_rf_bin = confusion_matrix(labels_bin_test,rf_bin_pred,labels=rf_model_bin.classes_)\n",
    "disp = ConfusionMatrixDisplay(confusion_matrix=cm_rf_bin,display_labels=rf_model_bin.classes_)\n",
    "disp.plot()\n",
    "plt.show()"
   ]
  },
  {
   "cell_type": "code",
   "execution_count": 42,
   "id": "90d82817",
   "metadata": {},
   "outputs": [
    {
     "name": "stdout",
     "output_type": "stream",
     "text": [
      "The accuracy score is 0.9333333333333333\n"
     ]
    }
   ],
   "source": [
    "# Calculating the accuracy score\n",
    "acc_score_rf_bin = accuracy_score(labels_bin_test,rf_bin_pred)\n",
    "print(\"The accuracy score is \" + str(acc_score_rf_bin))"
   ]
  },
  {
   "cell_type": "code",
   "execution_count": 43,
   "id": "f0a4177c",
   "metadata": {},
   "outputs": [
    {
     "name": "stdout",
     "output_type": "stream",
     "text": [
      "The f1 scores are [0.92857143 0.9375    ]\n"
     ]
    }
   ],
   "source": [
    "# Calculating the f1 score\n",
    "f1_sc_rf_bin = f1_score(labels_bin_test,rf_bin_pred,average=None)\n",
    "print(\"The f1 scores are \"+str(f1_sc_rf_bin))"
   ]
  },
  {
   "cell_type": "markdown",
   "id": "c2bc4991",
   "metadata": {},
   "source": [
    "* Trying out `Logistic Regression`"
   ]
  },
  {
   "cell_type": "code",
   "execution_count": 44,
   "id": "111e5194",
   "metadata": {},
   "outputs": [
    {
     "name": "stdout",
     "output_type": "stream",
     "text": [
      "[[13  2]\n",
      " [ 4 11]]\n"
     ]
    }
   ],
   "source": [
    "logreg_bin = LogisticRegression(random_state=42).fit(features_both, labels_bin)\n",
    "logreg_bin_pred = logreg_bin.predict(features_both_test)\n",
    "\n",
    "print(metrics.confusion_matrix(labels_bin_test,logreg_bin_pred))"
   ]
  },
  {
   "cell_type": "code",
   "execution_count": 45,
   "id": "999cfb8a",
   "metadata": {},
   "outputs": [
    {
     "data": {
      "image/png": "[encoded data removed]",
      "text/plain": [
       "<Figure size 640x480 with 2 Axes>"
      ]
     },
     "metadata": {},
     "output_type": "display_data"
    }
   ],
   "source": [
    "# Visualizing the confusion matrix\n",
    "cm_logreg_bin = confusion_matrix(labels_bin_test,logreg_bin_pred,labels=logreg_bin.classes_)\n",
    "disp = ConfusionMatrixDisplay(confusion_matrix=cm_logreg_bin,display_labels=logreg_bin.classes_)\n",
    "disp.plot()\n",
    "plt.show()"
   ]
  },
  {
   "cell_type": "code",
   "execution_count": 46,
   "id": "a96f2f1c",
   "metadata": {},
   "outputs": [
    {
     "name": "stdout",
     "output_type": "stream",
     "text": [
      "The accuracy score is 0.8\n"
     ]
    }
   ],
   "source": [
    "# Calculating the accuracy score\n",
    "acc_score_logreg_bin = accuracy_score(labels_bin_test,logreg_bin_pred)\n",
    "print(\"The accuracy score is \" + str(acc_score_logreg_bin))"
   ]
  },
  {
   "cell_type": "code",
   "execution_count": 47,
   "id": "719e5bf0",
   "metadata": {},
   "outputs": [
    {
     "name": "stdout",
     "output_type": "stream",
     "text": [
      "The f1 scores are [0.8125     0.78571429]\n"
     ]
    }
   ],
   "source": [
    "# Calculating the f1 score\n",
    "f1_sc_logreg_bin = f1_score(labels_bin_test,logreg_bin_pred,average=None)\n",
    "print(\"The f1 scores are \"+str(f1_sc_logreg_bin))"
   ]
  },
  {
   "cell_type": "markdown",
   "id": "9ec8a283",
   "metadata": {},
   "source": [
    "* Trying out `Multi-layer Perceptron (MLP)`"
   ]
  },
  {
   "cell_type": "code",
   "execution_count": 48,
   "id": "53282003",
   "metadata": {},
   "outputs": [
    {
     "name": "stdout",
     "output_type": "stream",
     "text": [
      "[[13  2]\n",
      " [ 3 12]]\n"
     ]
    }
   ],
   "source": [
    "mlp_bin = MLPClassifier(hidden_layer_sizes={140},activation=\"logistic\",solver=\"sgd\", random_state=42,max_iter=10000).fit(features_both,labels_bin)\n",
    "mlp_bin_pred = mlp_bin.predict(features_both_test)\n",
    "\n",
    "# Generating the confusion matrix from the true labels and predicted values\n",
    "print(metrics.confusion_matrix(labels_bin_test,mlp_bin_pred))"
   ]
  },
  {
   "cell_type": "code",
   "execution_count": 49,
   "id": "82be6c2f",
   "metadata": {},
   "outputs": [
    {
     "data": {
      "image/png": "[encoded data removed]",
      "text/plain": [
       "<Figure size 640x480 with 2 Axes>"
      ]
     },
     "metadata": {},
     "output_type": "display_data"
    }
   ],
   "source": [
    "# Visualizing the confusion matrix\n",
    "cm_mlp_bin = confusion_matrix(labels_bin_test,mlp_bin_pred,labels=mlp_bin.classes_)\n",
    "disp = ConfusionMatrixDisplay(confusion_matrix=cm_mlp_bin,display_labels=mlp_bin.classes_)\n",
    "disp.plot()\n",
    "plt.show()"
   ]
  },
  {
   "cell_type": "code",
   "execution_count": 50,
   "id": "d16e91df",
   "metadata": {},
   "outputs": [
    {
     "name": "stdout",
     "output_type": "stream",
     "text": [
      "The accuracy score is 0.8333333333333334\n"
     ]
    }
   ],
   "source": [
    "# Calculating the accuracy score\n",
    "acc_score_mlp_bin = accuracy_score(labels_bin_test,mlp_bin_pred)\n",
    "print(\"The accuracy score is \" + str(acc_score_mlp_bin))"
   ]
  },
  {
   "cell_type": "code",
   "execution_count": 51,
   "id": "0a105c37",
   "metadata": {},
   "outputs": [
    {
     "name": "stdout",
     "output_type": "stream",
     "text": [
      "The f1 scores are [0.83870968 0.82758621]\n"
     ]
    }
   ],
   "source": [
    "# Calculating the f1 score\n",
    "f1_sc_mlp_bin = f1_score(labels_bin_test,mlp_bin_pred,average=None)\n",
    "print(\"The f1 scores are \"+str(f1_sc_mlp_bin))"
   ]
  },
  {
   "cell_type": "markdown",
   "id": "7c6ce355",
   "metadata": {},
   "source": [
    "## Part 4: Unsupervised model"
   ]
  },
  {
   "cell_type": "markdown",
   "id": "5054a8c8",
   "metadata": {},
   "source": [
    "* Trying out `Kernel Density Estimation (KDE)`"
   ]
  },
  {
   "cell_type": "code",
   "execution_count": 52,
   "id": "a987cd0b",
   "metadata": {},
   "outputs": [
    {
     "name": "stdout",
     "output_type": "stream",
     "text": [
      "'_train()' starts at 2022-12-07 13:51:06\n",
      "'_train()' ends at 2022-12-07 13:51:06 and takes 0.0002 mins.\n",
      "'_test()' starts at 2022-12-07 13:51:06\n",
      "'_test()' ends at 2022-12-07 13:51:06 and takes 0.0001 mins.\n",
      "0.0002 0.0001 0.9066666666666667\n"
     ]
    }
   ],
   "source": [
    "from sklearn.model_selection import train_test_split\n",
    "\n",
    "from netml.ndm.model import MODEL\n",
    "from netml.ndm.kde import KDE\n",
    "\n",
    "RANDOM_STATE = 42\n",
    "\n",
    "# create detection model\n",
    "kde = KDE(random_state=RANDOM_STATE)\n",
    "kde.name = 'KDE'\n",
    "\n",
    "ndm_kde = MODEL(kde, score_metric='auc', verbose=0, random_state=RANDOM_STATE)\n",
    "\n",
    "# train the model from the train set\n",
    "ndm_kde.train(features_both)\n",
    "\n",
    "# evaluate the trained model\n",
    "ndm_kde.test(features_both_test, labels_bin_test)\n",
    "\n",
    "# stats\n",
    "print(ndm_kde.train.tot_time, ndm_kde.test.tot_time, ndm_kde.score)"
   ]
  },
  {
   "cell_type": "markdown",
   "id": "dfc805f8",
   "metadata": {},
   "source": [
    "* Trying out `One Class SVM(OCSVM)`"
   ]
  },
  {
   "cell_type": "code",
   "execution_count": 53,
   "id": "4472cb74",
   "metadata": {},
   "outputs": [
    {
     "name": "stdout",
     "output_type": "stream",
     "text": [
      "'_train()' starts at 2022-12-07 13:51:06\n",
      "'_train()' ends at 2022-12-07 13:51:06 and takes 0.0002 mins.\n",
      "'_test()' starts at 2022-12-07 13:51:06\n",
      "'_test()' ends at 2022-12-07 13:51:06 and takes 0.0002 mins.\n",
      "0.0002 0.0002 0.5288888888888889\n"
     ]
    }
   ],
   "source": [
    "from netml.ndm.ocsvm import OCSVM\n",
    "# create detection model\n",
    "ocsvm = OCSVM(kernel='rbf', nu=0.5, random_state=RANDOM_STATE)\n",
    "ocsvm.name = 'OCSVM'\n",
    "ndm_ocsvm = MODEL(ocsvm, score_metric='auc', verbose=0, random_state=RANDOM_STATE)\n",
    "\n",
    "# train the model from the train set\n",
    "ndm_ocsvm.train(features_both,labels_bin)\n",
    "# evaluate the trained model\n",
    "ndm_ocsvm.test(features_both_test, labels_bin_test)\n",
    "\n",
    "# stats\n",
    "print(ndm_ocsvm.train.tot_time, ndm_ocsvm.test.tot_time, ndm_ocsvm.score)"
   ]
  },
  {
   "cell_type": "markdown",
   "id": "4161a040",
   "metadata": {},
   "source": [
    "* Trying out `Isolation Forest (IF/IForest)`"
   ]
  },
  {
   "cell_type": "code",
   "execution_count": 54,
   "id": "ae6d263e",
   "metadata": {},
   "outputs": [
    {
     "name": "stdout",
     "output_type": "stream",
     "text": [
      "'_train()' starts at 2022-12-07 13:51:06\n"
     ]
    },
    {
     "name": "stderr",
     "output_type": "stream",
     "text": [
      "[Parallel(n_jobs=8)]: Using backend ThreadingBackend with 8 concurrent workers.\n",
      "[Parallel(n_jobs=8)]: Done   2 out of   8 | elapsed:    2.3s remaining:    6.9s\n",
      "[Parallel(n_jobs=8)]: Done   8 out of   8 | elapsed:    2.5s finished\n"
     ]
    },
    {
     "name": "stdout",
     "output_type": "stream",
     "text": [
      "'_train()' ends at 2022-12-07 13:51:12 and takes 0.1062 mins.\n",
      "'_test()' starts at 2022-12-07 13:51:12\n",
      "'_test()' ends at 2022-12-07 13:51:15 and takes 0.0406 mins.\n",
      "0.1062 0.0406 0.039999999999999994\n"
     ]
    }
   ],
   "source": [
    "from netml.ndm.iforest import IF\n",
    "\n",
    "iforest = IF(n_estimators = 1000, random_state=RANDOM_STATE)\n",
    "iforest.name = 'IForest'\n",
    "ndm_iforest = MODEL(iforest, score_metric='auc', verbose=0, random_state=RANDOM_STATE)\n",
    "\n",
    "# train the model from the train set\n",
    "ndm_iforest.train(features_both,labels_bin)\n",
    "# evaluate the trained model\n",
    "ndm_iforest.test(features_both_test, labels_bin_test)\n",
    "\n",
    "# stats\n",
    "print(ndm_iforest.train.tot_time, ndm_iforest.test.tot_time, ndm_iforest.score)"
   ]
  },
  {
   "cell_type": "markdown",
   "id": "96e78b42",
   "metadata": {},
   "source": [
    "* Trying out `Gaussian Mixture Model (GMM)`"
   ]
  },
  {
   "cell_type": "code",
   "execution_count": 55,
   "id": "3c0cc492",
   "metadata": {},
   "outputs": [
    {
     "name": "stdout",
     "output_type": "stream",
     "text": [
      "'_train()' starts at 2022-12-07 13:51:15\n",
      "'_train()' ends at 2022-12-07 13:51:16 and takes 0.0084 mins.\n",
      "'_test()' starts at 2022-12-07 13:51:16\n",
      "'_test()' ends at 2022-12-07 13:51:16 and takes 0.0001 mins.\n",
      "0.0084 0.0001 0.888888888888889\n"
     ]
    }
   ],
   "source": [
    "from netml.ndm.gmm import GMM\n",
    "\n",
    "# create detection model\n",
    "gmm = GMM(reg_covar= 1e-2, random_state=RANDOM_STATE)\n",
    "gmm.name = 'GMM'\n",
    "\n",
    "ndm_gmm = MODEL(gmm, score_metric='auc', verbose=0, random_state=RANDOM_STATE)\n",
    "\n",
    "# train the model from the train set\n",
    "ndm_gmm.train(features_both)\n",
    "\n",
    "# evaluate the trained model\n",
    "ndm_gmm.test(features_both_test, labels_bin_test)\n",
    "\n",
    "# stats\n",
    "print(ndm_gmm.train.tot_time, ndm_gmm.test.tot_time, ndm_gmm.score)"
   ]
  }
 ],
 "metadata": {
  "kernelspec": {
   "display_name": "Python 3.10.8 64-bit",
   "language": "python",
   "name": "python3"
  },
  "language_info": {
   "codemirror_mode": {
    "name": "ipython",
    "version": 3
   },
   "file_extension": ".py",
   "mimetype": "text/x-python",
   "name": "python",
   "nbconvert_exporter": "python",
   "pygments_lexer": "ipython3",
   "version": "3.10.8"
  },
  "vscode": {
   "interpreter": {
    "hash": "aee8b7b246df8f9039afb4144a1f6fd8d2ca17a180786b69acc140d282b71a49"
   }
  }
 },
 "nbformat": 4,
 "nbformat_minor": 5
}
